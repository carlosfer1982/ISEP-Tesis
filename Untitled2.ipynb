{
  "nbformat": 4,
  "nbformat_minor": 0,
  "metadata": {
    "colab": {
      "provenance": [],
      "authorship_tag": "ABX9TyPV3Mid74Z2Q5baqoL0wuOc",
      "include_colab_link": true
    },
    "kernelspec": {
      "name": "python3",
      "display_name": "Python 3"
    },
    "language_info": {
      "name": "python"
    }
  },
  "cells": [
    {
      "cell_type": "markdown",
      "metadata": {
        "id": "view-in-github",
        "colab_type": "text"
      },
      "source": [
        "<a href=\"https://colab.research.google.com/github/carlosfer1982/ISEP-Tesis/blob/main/Untitled2.ipynb\" target=\"_parent\"><img src=\"https://colab.research.google.com/assets/colab-badge.svg\" alt=\"Open In Colab\"/></a>"
      ]
    },
    {
      "cell_type": "code",
      "execution_count": null,
      "metadata": {
        "id": "vZbEumBtJCAZ"
      },
      "outputs": [],
      "source": [
        "\n",
        "Open In Colab\n",
        "\n",
        "# Em Python, vamos simular um circuito RLC\n",
        "\n",
        "# Vamos gerar um sinal (CA ou CC)\n",
        "\n",
        "\n",
        "# Importando as bibliotecas\n",
        "import numpy as np # Bibliotecas para funções matemáticas\n",
        "import matplotlib.pyplot as plt # Bibliotecas para o plot\n",
        "from sympy import diff, Symbol  # Para a representação simbólica\n",
        "\n",
        "# Modelo de circuito\n",
        "# Note que o circuito deverá Vo/Vi\n",
        "\n",
        "\n",
        "\n",
        "R = 100\n",
        "C = 100*pow(10,-6)\n",
        "#print(R)\n",
        "#print(C)\n",
        "x = Symbol('x')\n",
        "fx = x**7\n",
        "fx\n",
        "print(f'O Resultado da operação é: {fx}')\n",
        "#diff(f,x)\n",
        "\n",
        "\n",
        "O Resultado da operação é: x**7"
      ]
    }
  ]
}